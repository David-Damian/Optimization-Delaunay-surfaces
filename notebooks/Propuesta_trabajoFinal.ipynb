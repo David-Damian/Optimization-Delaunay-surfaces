Mover el archivo `Propuesta_trabajoFinal.ipynb` del directorio `avance1` a este directorio
