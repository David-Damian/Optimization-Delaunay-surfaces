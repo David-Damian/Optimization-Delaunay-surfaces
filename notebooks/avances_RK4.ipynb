{
 "cells": [
  {
   "cell_type": "markdown",
   "id": "7acaa4ef-a660-4381-95d9-0242ecedb084",
   "metadata": {},
   "source": [
    "# Programando el método de Runge-Kutta"
   ]
  },
  {
   "cell_type": "markdown",
   "id": "70a6bf35-ab7d-4a0d-8d73-095b74f646f2",
   "metadata": {},
   "source": [
    "## Breve introducción al método"
   ]
  },
  {
   "cell_type": "markdown",
   "id": "68173491-c25b-4084-af89-ab7ffa96b355",
   "metadata": {},
   "source": [
    "### ¿Útil para qué?"
   ]
  },
  {
   "cell_type": "markdown",
   "id": "14a44124-2ca8-429c-aed2-402b9761aaf6",
   "metadata": {},
   "source": [
    "Este método sirve para aproximar la solución del problema de valor inicial (i.e una ecuación diferencial con valor incial) del tipo\n",
    "\n",
    "> \n",
    "\\begin{equation}\n",
    "y'=f(t,y)\\quad t\\in[a,b]\\quad y(a)=\\alpha\n",
    "\\end{equation}"
   ]
  },
  {
   "cell_type": "markdown",
   "id": "39c7bfdb-0b77-48c1-a991-2de4169faeae",
   "metadata": {},
   "source": [
    "### ¿Cómo funciona?"
   ]
  },
  {
   "cell_type": "markdown",
   "id": "49b6c4f1-836c-404e-92dd-65c0c8c0ae10",
   "metadata": {},
   "source": [
    "* **INPUTS** $a,b$ los extremos del intervalo; $N$ cantidad de puntos en el intervalo; condición inicial $\\alpha$\n",
    "* **OUTPUT** Aproximación $w$ de la función $y$ en cada uno de los $N+1$ puntos del intervalo $[a,b]$."
   ]
  },
  {
   "cell_type": "markdown",
   "id": "8944cbfc-ddec-4f24-a167-ec242cc1516e",
   "metadata": {},
   "source": [
    "> **PASO 2**: Para $i=1,\\dots, N$ hacer Pasos 3-5\n",
    ">> **PASO 3**: \n",
    "\\begin{split}\n",
    "\\text{Definir}\\quad &K_1=hf(t,w)\\\\\n",
    "&K_2= hf\\left(t+h/2, w+K_1/2\\right)\\\\\n",
    "&K_3= hf\\left(t+h/2, w+K_2/2\\right)\\\\\n",
    "&K_4= hf\\left(t+h/2, w+K_3\\right)\n",
    "\\end{split}\n",
    ">> **PASO 4**\n",
    "\\begin{split}\n",
    "\\text{Definir}\\quad &w=w+\\frac{K_1+2K_2+2K_3+K_4}{6} \\quad\\text{(se calcular $w_i$})\\\\\n",
    "&t=a+ih\\quad\\text{(se calcula $t_i$})\n",
    "\\end{split}"
   ]
  },
  {
   "cell_type": "markdown",
   "id": "65bdc7e4-1ba2-4b84-be9e-6ebba017ca44",
   "metadata": {},
   "source": [
    "> **PASO 5** Parar"
   ]
  },
  {
   "cell_type": "markdown",
   "id": "483ba71d-b6d5-4cbe-bf12-50102e42a0db",
   "metadata": {},
   "source": [
    "**NOTA:** Este algoritmo se ha obtenido de [Numerical Analysis 9nth ed. pp 288-289](https://faculty.ksu.edu.sa/sites/default/files/numerical_analysis_9th.pdf)"
   ]
  },
  {
   "cell_type": "markdown",
   "id": "16a3a379-2f79-40b9-97d4-195693dd1c28",
   "metadata": {},
   "source": [
    "## Programación"
   ]
  },
  {
   "cell_type": "markdown",
   "id": "494b0518-0d7c-4839-84cd-18b482315474",
   "metadata": {},
   "source": [
    "Añadimos las librerías necesarias"
   ]
  },
  {
   "cell_type": "code",
   "execution_count": 1,
   "id": "da4f12a1-29a1-477a-9acb-5e4471a19922",
   "metadata": {},
   "outputs": [],
   "source": [
    "import numpy as np\n",
    "import warnings\n",
    "\n",
    "warnings.filterwarnings(\"ignore\")"
   ]
  },
  {
   "cell_type": "markdown",
   "id": "f126617f-ad90-4f2a-bd40-87038dfdbf18",
   "metadata": {},
   "source": [
    "Programamos el algortimo descrito arriba"
   ]
  },
  {
   "cell_type": "code",
   "execution_count": 2,
   "id": "624801c0-2197-4aa2-99c1-ff250a6410d1",
   "metadata": {},
   "outputs": [],
   "source": [
    "def runge(f,a,b,alpha,N):\n",
    "    \n",
    "    h=(b-a)/N\n",
    "    t=np.zeros(N)\n",
    "    w=np.zeros(N)\n",
    "    w[0]=alpha\n",
    "    for i in range(0,N):\n",
    "        t[i]=a+i*h\n",
    "        K1=h*f(t[i],w[i])\n",
    "        K2= h*f(t[i]+h/2, w[i]+K1/2)\n",
    "        K3= h*f(t[i]+h/2, w[i]+K2/2)\n",
    "        K4= h*f(t[i]+h/2, w[i]+K3)\n",
    "        w[i+1]=w[i]+(K1+2*K2+2*K3+K4)/6\n",
    "    return t,w "
   ]
  },
  {
   "cell_type": "markdown",
   "id": "77357651-8df7-4593-9890-67a6029f09e1",
   "metadata": {},
   "source": [
    "Probando si el algoritmo resuelve la EDO siguiente:\n",
    "    $$\n",
    "    y'=y\\quad y(0)=1\n",
    "    $$\n",
    "   la cual, si se resulve analíticamente, tiene por solución $y(t)=\\exp(t)$"
   ]
  },
  {
   "cell_type": "code",
   "execution_count": 3,
   "id": "cf310ff1-192c-4e5a-91a0-fae798f03bea",
   "metadata": {},
   "outputs": [],
   "source": [
    "def f(t,y):\n",
    "    return y"
   ]
  },
  {
   "cell_type": "code",
   "execution_count": 4,
   "id": "eb68522d-43a6-46fc-9d5f-cbee3a89fc90",
   "metadata": {},
   "outputs": [
    {
     "ename": "IndexError",
     "evalue": "index 100 is out of bounds for axis 0 with size 100",
     "output_type": "error",
     "traceback": [
      "\u001b[0;31m---------------------------------------------------------------------------\u001b[0m",
      "\u001b[0;31mIndexError\u001b[0m                                Traceback (most recent call last)",
      "Input \u001b[0;32mIn [4]\u001b[0m, in \u001b[0;36m<cell line: 1>\u001b[0;34m()\u001b[0m\n\u001b[0;32m----> 1\u001b[0m sol\u001b[38;5;241m=\u001b[39m\u001b[43mrunge\u001b[49m\u001b[43m(\u001b[49m\u001b[43mf\u001b[49m\u001b[43m,\u001b[49m\u001b[38;5;241;43m-\u001b[39;49m\u001b[38;5;241;43m1\u001b[39;49m\u001b[43m,\u001b[49m\u001b[38;5;241;43m1\u001b[39;49m\u001b[43m,\u001b[49m\u001b[38;5;241;43m1\u001b[39;49m\u001b[43m,\u001b[49m\u001b[38;5;241;43m100\u001b[39;49m\u001b[43m)\u001b[49m\n",
      "Input \u001b[0;32mIn [2]\u001b[0m, in \u001b[0;36mrunge\u001b[0;34m(f, a, b, alpha, N)\u001b[0m\n\u001b[1;32m     11\u001b[0m     K3\u001b[38;5;241m=\u001b[39m h\u001b[38;5;241m*\u001b[39mf(t[i]\u001b[38;5;241m+\u001b[39mh\u001b[38;5;241m/\u001b[39m\u001b[38;5;241m2\u001b[39m, w[i]\u001b[38;5;241m+\u001b[39mK2\u001b[38;5;241m/\u001b[39m\u001b[38;5;241m2\u001b[39m)\n\u001b[1;32m     12\u001b[0m     K4\u001b[38;5;241m=\u001b[39m h\u001b[38;5;241m*\u001b[39mf(t[i]\u001b[38;5;241m+\u001b[39mh\u001b[38;5;241m/\u001b[39m\u001b[38;5;241m2\u001b[39m, w[i]\u001b[38;5;241m+\u001b[39mK3)\n\u001b[0;32m---> 13\u001b[0m     \u001b[43mw\u001b[49m\u001b[43m[\u001b[49m\u001b[43mi\u001b[49m\u001b[38;5;241;43m+\u001b[39;49m\u001b[38;5;241;43m1\u001b[39;49m\u001b[43m]\u001b[49m\u001b[38;5;241m=\u001b[39mw[i]\u001b[38;5;241m+\u001b[39m(K1\u001b[38;5;241m+\u001b[39m\u001b[38;5;241m2\u001b[39m\u001b[38;5;241m*\u001b[39mK2\u001b[38;5;241m+\u001b[39m\u001b[38;5;241m2\u001b[39m\u001b[38;5;241m*\u001b[39mK3\u001b[38;5;241m+\u001b[39mK4)\u001b[38;5;241m/\u001b[39m\u001b[38;5;241m6\u001b[39m\n\u001b[1;32m     14\u001b[0m \u001b[38;5;28;01mreturn\u001b[39;00m t,w\n",
      "\u001b[0;31mIndexError\u001b[0m: index 100 is out of bounds for axis 0 with size 100"
     ]
    }
   ],
   "source": [
    "sol=runge(f,-1,1,1,100)"
   ]
  }
 ],
 "metadata": {
  "kernelspec": {
   "display_name": "Python 3 (ipykernel)",
   "language": "python",
   "name": "python3"
  },
  "language_info": {
   "codemirror_mode": {
    "name": "ipython",
    "version": 3
   },
   "file_extension": ".py",
   "mimetype": "text/x-python",
   "name": "python",
   "nbconvert_exporter": "python",
   "pygments_lexer": "ipython3",
   "version": "3.10.6"
  }
 },
 "nbformat": 4,
 "nbformat_minor": 5
}
