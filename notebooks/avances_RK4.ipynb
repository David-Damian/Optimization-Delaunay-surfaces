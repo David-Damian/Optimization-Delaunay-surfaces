{
 "cells": [
  {
   "cell_type": "markdown",
   "id": "7acaa4ef-a660-4381-95d9-0242ecedb084",
   "metadata": {},
   "source": [
    "# Programando el método de Runge-Kutta"
   ]
  },
  {
   "cell_type": "markdown",
   "id": "70a6bf35-ab7d-4a0d-8d73-095b74f646f2",
   "metadata": {},
   "source": [
    "## Breve introducción al método"
   ]
  },
  {
   "cell_type": "markdown",
   "id": "68173491-c25b-4084-af89-ab7ffa96b355",
   "metadata": {},
   "source": [
    "### ¿Útil para qué?"
   ]
  },
  {
   "cell_type": "markdown",
   "id": "14a44124-2ca8-429c-aed2-402b9761aaf6",
   "metadata": {},
   "source": [
    "Este método sirve para aproximar la solución del problema de valor inicial (i.e una ecuación diferencial con valor incial) del tipo\n",
    "\n",
    "> \n",
    "\\begin{equation}\n",
    "y'=f(t,y)\\quad t\\in[a,b]\\quad y(a)=\\alpha\n",
    "\\end{equation}"
   ]
  },
  {
   "cell_type": "markdown",
   "id": "39c7bfdb-0b77-48c1-a991-2de4169faeae",
   "metadata": {},
   "source": [
    "### ¿Cómo funciona?"
   ]
  },
  {
   "cell_type": "markdown",
   "id": "49b6c4f1-836c-404e-92dd-65c0c8c0ae10",
   "metadata": {},
   "source": [
    "* **INPUTS** $a,b$ los extremos del intervalo; $N$ cantidad de puntos en el intervalo; condición inicial $\\alpha$\n",
    "* **OUTPUT** Aproximación $w$ de la función $y$ en cada uno de los $N+1$ puntos del intervalo $[a,b]$."
   ]
  },
  {
   "cell_type": "markdown",
   "id": "8944cbfc-ddec-4f24-a167-ec242cc1516e",
   "metadata": {},
   "source": [
    "> **PASO 2**: Para $i=1,\\dots, N$ hacer Pasos 3-5\n",
    ">> **PASO 3**: \n",
    "\\begin{split}\n",
    "\\text{Definir}\\quad &K_1=hf(t,w)\\\\\n",
    "&K_2= hf\\left(t+h/2, w+K_1/2\\right)\\\\\n",
    "&K_3= hf\\left(t+h/2, w+K_2/2\\right)\\\\\n",
    "&K_4= hf\\left(t+h/2, w+K_3\\right)\n",
    "\\end{split}\n",
    ">> **PASO 4**\n",
    "\\begin{split}\n",
    "\\text{Definir}\\quad &w=w+\\frac{K_1+2K_2+2K_3+K_4}{6} \\quad\\text{(se calcular $w_i$})\\\\\n",
    "&t=a+ih\\quad\\text{(se calcula $t_i$})\n",
    "\\end{split}"
   ]
  },
  {
   "cell_type": "markdown",
   "id": "65bdc7e4-1ba2-4b84-be9e-6ebba017ca44",
   "metadata": {},
   "source": [
    "> **PASO 5** Parar"
   ]
  },
  {
   "cell_type": "markdown",
   "id": "483ba71d-b6d5-4cbe-bf12-50102e42a0db",
   "metadata": {},
   "source": [
    "**NOTA:** Este algoritmo se ha obtenido de [Numerical Analysis 9nth ed. pp 288-289](https://faculty.ksu.edu.sa/sites/default/files/numerical_analysis_9th.pdf)"
   ]
  },
  {
   "cell_type": "markdown",
   "id": "16a3a379-2f79-40b9-97d4-195693dd1c28",
   "metadata": {},
   "source": [
    "## Programación"
   ]
  },
  {
   "cell_type": "markdown",
   "id": "494b0518-0d7c-4839-84cd-18b482315474",
   "metadata": {},
   "source": [
    "Añadimos las librerías necesarias"
   ]
  },
  {
   "cell_type": "code",
   "execution_count": 1,
   "id": "da4f12a1-29a1-477a-9acb-5e4471a19922",
   "metadata": {},
   "outputs": [],
   "source": [
    "import numpy as np\n",
    "import warnings\n",
    "\n",
    "warnings.filterwarnings(\"ignore\")"
   ]
  },
  {
   "cell_type": "markdown",
   "id": "f126617f-ad90-4f2a-bd40-87038dfdbf18",
   "metadata": {},
   "source": [
    "Programamos el algortimo descrito arriba"
   ]
  },
  {
   "cell_type": "code",
   "execution_count": 8,
   "id": "624801c0-2197-4aa2-99c1-ff250a6410d1",
   "metadata": {},
   "outputs": [],
   "source": [
    "def RK4(f,a,b,alpha,N):\n",
    "    '''\n",
    "    Runge-Kutta order four method to approximate the solution of an\n",
    "    ordinary differential equation with an initial condition\n",
    "    \n",
    "    INPUTS:\n",
    "    \n",
    "    f(function)  : The function that defines the ordinary differential equation\n",
    "    a(float)     : left extreme of the solution domain [a,b]\n",
    "    b(float)     : right extreme of the solution domain [a,b]\n",
    "    alpha(float) : initial condition y(a)=alpha\n",
    "    N(integer)   : \n",
    "    \n",
    "    OUTPUT:\n",
    "    \n",
    "    w(onedarray) : approximation of function y at N equally spaced point of [a,b]\n",
    "    '''\n",
    "    h=(b-a)/N\n",
    "    t=np.zeros(N+1)\n",
    "    w=np.zeros(N+1)\n",
    "    w[0]=alpha\n",
    "    for i in range(0,N):\n",
    "        t[i]=a+i*h\n",
    "        K1=h*f(t[i],w[i])\n",
    "        K2= h*f(t[i]+h/2, w[i]+K1/2)\n",
    "        K3= h*f(t[i]+h/2, w[i]+K2/2)\n",
    "        K4= h*f(t[i]+h/2, w[i]+K3)\n",
    "        w[i+1]=w[i]+(K1+2*K2+2*K3+K4)/6\n",
    "    t[N]=b\n",
    "    return t,w "
   ]
  },
  {
   "cell_type": "markdown",
   "id": "77357651-8df7-4593-9890-67a6029f09e1",
   "metadata": {},
   "source": [
    "Probando si el algoritmo resuelve la EDO siguiente:\n",
    "    $$\n",
    "    y'=y\\quad y(0)=1\n",
    "    $$\n",
    "   la cual, si se resulve analíticamente, tiene por solución $y(t)=\\exp(t)$"
   ]
  },
  {
   "cell_type": "code",
   "execution_count": 9,
   "id": "cf310ff1-192c-4e5a-91a0-fae798f03bea",
   "metadata": {},
   "outputs": [],
   "source": [
    "def f(t,y):\n",
    "    return y"
   ]
  },
  {
   "cell_type": "code",
   "execution_count": 10,
   "id": "eb68522d-43a6-46fc-9d5f-cbee3a89fc90",
   "metadata": {},
   "outputs": [
    {
     "name": "stdout",
     "output_type": "stream",
     "text": [
      "(array([-1.  , -0.98, -0.96, -0.94, -0.92, -0.9 , -0.88, -0.86, -0.84,\n",
      "       -0.82, -0.8 , -0.78, -0.76, -0.74, -0.72, -0.7 , -0.68, -0.66,\n",
      "       -0.64, -0.62, -0.6 , -0.58, -0.56, -0.54, -0.52, -0.5 , -0.48,\n",
      "       -0.46, -0.44, -0.42, -0.4 , -0.38, -0.36, -0.34, -0.32, -0.3 ,\n",
      "       -0.28, -0.26, -0.24, -0.22, -0.2 , -0.18, -0.16, -0.14, -0.12,\n",
      "       -0.1 , -0.08, -0.06, -0.04, -0.02,  0.  ,  0.02,  0.04,  0.06,\n",
      "        0.08,  0.1 ,  0.12,  0.14,  0.16,  0.18,  0.2 ,  0.22,  0.24,\n",
      "        0.26,  0.28,  0.3 ,  0.32,  0.34,  0.36,  0.38,  0.4 ,  0.42,\n",
      "        0.44,  0.46,  0.48,  0.5 ,  0.52,  0.54,  0.56,  0.58,  0.6 ,\n",
      "        0.62,  0.64,  0.66,  0.68,  0.7 ,  0.72,  0.74,  0.76,  0.78,\n",
      "        0.8 ,  0.82,  0.84,  0.86,  0.88,  0.9 ,  0.92,  0.94,  0.96,\n",
      "        0.98,  1.  ]), array([1.        , 1.02020134, 1.04081077, 1.06183655, 1.08328707,\n",
      "       1.10517092, 1.12749685, 1.1502738 , 1.17351087, 1.19721736,\n",
      "       1.22140276, 1.24607673, 1.27124915, 1.29693009, 1.32312981,\n",
      "       1.34985881, 1.37712776, 1.40494759, 1.43332941, 1.46228459,\n",
      "       1.4918247 , 1.52196155, 1.55270722, 1.58407398, 1.6160744 ,\n",
      "       1.64872127, 1.68202765, 1.71600686, 1.7506725 , 1.78603843,\n",
      "       1.8221188 , 1.85892804, 1.89648088, 1.93479233, 1.97387773,\n",
      "       2.01375271, 2.05443321, 2.09593551, 2.13827622, 2.18147226,\n",
      "       2.22554093, 2.27049984, 2.31636697, 2.36316069, 2.4108997 ,\n",
      "       2.45960311, 2.50929039, 2.55998142, 2.61169647, 2.66445624,\n",
      "       2.71828182, 2.77319476, 2.82921701, 2.88637099, 2.94467955,\n",
      "       3.00416602, 3.0648542 , 3.12676836, 3.18993327, 3.2543742 ,\n",
      "       3.32011692, 3.38718773, 3.45561346, 3.52542148, 3.59663972,\n",
      "       3.66929666, 3.74342137, 3.8190435 , 3.89619329, 3.97490162,\n",
      "       4.05519996, 4.13712043, 4.22069581, 4.30595952, 4.39294567,\n",
      "       4.48168906, 4.57222519, 4.66459026, 4.75882124, 4.8549558 ,\n",
      "       4.95303241, 5.05309031, 5.1551695 , 5.25931083, 5.36555596,\n",
      "       5.47394738, 5.58452845, 5.69734341, 5.81243738, 5.9298564 ,\n",
      "       6.04964745, 6.17185844, 6.29653825, 6.42373676, 6.55350485,\n",
      "       6.68589443, 6.82095845, 6.95875095, 7.09932705, 7.24274297,\n",
      "       7.38905608]))\n"
     ]
    }
   ],
   "source": [
    "sol=RK4(f,-1,1,1,100)\n",
    "print(sol)"
   ]
  }
 ],
 "metadata": {
  "kernelspec": {
   "display_name": "Python 3 (ipykernel)",
   "language": "python",
   "name": "python3"
  },
  "language_info": {
   "codemirror_mode": {
    "name": "ipython",
    "version": 3
   },
   "file_extension": ".py",
   "mimetype": "text/x-python",
   "name": "python",
   "nbconvert_exporter": "python",
   "pygments_lexer": "ipython3",
   "version": "3.10.6"
  }
 },
 "nbformat": 4,
 "nbformat_minor": 5
}
