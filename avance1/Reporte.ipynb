{
  "nbformat": 4,
  "nbformat_minor": 0,
  "metadata": {
    "colab": {
      "provenance": []
    },
    "kernelspec": {
      "name": "python3",
      "display_name": "Python 3"
    },
    "language_info": {
      "name": "python"
    }
  },
  "cells": [
    {
      "cell_type": "markdown",
      "source": [
        "# Superficies de Delaunay\n",
        "Una perspectiva desde el cálculo de variaciones"
      ],
      "metadata": {
        "id": "VF1ZTaH1-byV"
      }
    },
    {
      "cell_type": "markdown",
      "source": [
        "# Resumen"
      ],
      "metadata": {
        "id": "HiRtDqFE-crV"
      }
    },
    {
      "cell_type": "markdown",
      "source": [
        "En el presente trabajo se aborda un problema de optimización con restricción y se resuelve de manera numérica usando el lenguaje de programación $\\mathrm{Python}.$ \n",
        "\n",
        "Dado un volumen $v>0$, se halla la superficie de revolución de área mínima tal que el volumen que ésta contiene sea $v$.\\\n",
        "Se resuelve el problema por el método de multiplicadores de Lagrange. Se define el lagrangiano a partir de el funcional que define el problema de minimización y la resitricción de volumen dado. \n",
        "La ecuación de Euler-Lagrange induce una ecuación diferencial ordinaria no lineal cuya solución analítica es posible de obtener para cierta configuración de sus parámetros. Se hace el uso de software para resolver el problema de manera más general y se muestran algunas superficies de las superficies solución, conocidas como **Superficies de Delaunay**"
      ],
      "metadata": {
        "id": "Aji9yEdG-f6X"
      }
    },
    {
      "cell_type": "markdown",
      "source": [
        "Introducción al cálculo de variaciones"
      ],
      "metadata": {
        "id": "rhIOH0y_-9-L"
      }
    },
    {
      "cell_type": "markdown",
      "source": [
        "Los conceptos matemáticos presentados en esta sección no pretenden ser exahustivos. Únicamente se presentan las ideas fundamentales necesarias para comprender el problema que se aborda en la investigación. \\\n",
        "Un estudio exhaustivo se presenta en ... \\\n",
        "\n",
        "La optimización es una de las actividades más importantes en matemáticas y en general en la vida de los humanos, pues siempre es deseable elegir de un conjunto de alternativas posibles, aquella que proporcione la mejor satisfacción."
      ],
      "metadata": {
        "id": "oEkDii9n--fg"
      }
    },
    {
      "cell_type": "markdown",
      "source": [
        "## ¿Qué estudia el cálculo de variaciones?"
      ],
      "metadata": {
        "id": "NuvBh9R-_AO8"
      }
    },
    {
      "cell_type": "markdown",
      "source": [
        "En matemáticas, existen diversas áreas donde se modelan problemas de la vida real desde distintos enfoques. El cálculo de variaciones es una de dichas áreas. Uno de los principales objetivos consiste en determinar un camino,curva, superficie, etc. que proporcione un valor extremo (mínimo ó máximo) de una función dada. \n",
        "\n",
        "La principal propiedad de estos problemas es que están definidos en un conjunto\n",
        "de funciones $\\mathcal{D}$, mientras que la función objetivo correspondiente se describe por un funcional $J : \\mathcal{D} \\to \\mathbb{R}$ que se representa por un operador integral de la forma\n",
        "\n",
        "$J[x]=\\int_a^b L(t,x(t),\\dot{x}(t))dt$ \\\n",
        "\n",
        "en donde $L\\in\\mathcal{C}^2([a,b]\\times \\mathbb{R}\\times \\mathbb{R})$ y $x\\in\\mathcal{D}:=\\{x\\in\\mathcal{C}^1([a,b],\\mathbb{R}) \\mid x(a)=x_a; x(b)=x_b\\}$.\n",
        "\n",
        "Algunos ejemplos de problemas de aplicación que se pueden abordar desde un enfoque del cálculo de variaciones se presentan en las siguientes secciones."
      ],
      "metadata": {
        "id": "_t4-VkJY_CGv"
      }
    }
  ]
}