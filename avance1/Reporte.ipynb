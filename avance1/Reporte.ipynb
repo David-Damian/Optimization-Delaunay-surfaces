{
  "nbformat": 4,
  "nbformat_minor": 0,
  "metadata": {
    "colab": {
      "provenance": []
    },
    "kernelspec": {
      "name": "python3",
      "display_name": "Python 3"
    },
    "language_info": {
      "name": "python"
    }
  },
  "cells": [
    {
      "cell_type": "markdown",
      "source": [
        "# Superficies de Delaunay\n",
        "Una perspectiva desde el cálculo de variaciones"
      ],
      "metadata": {
        "id": "VF1ZTaH1-byV"
      }
    },
    {
      "cell_type": "markdown",
      "source": [
        "# Resumen"
      ],
      "metadata": {
        "id": "HiRtDqFE-crV"
      }
    },
    {
      "cell_type": "markdown",
      "source": [
        "En el presente trabajo se aborda un problema de optimización con restricción y se resuelve de manera numérica usando el lenguaje de programación $\\mathrm{Python}.$ \n",
        "\n",
        "Dado un volumen $v>0$, se halla la superficie de revolución de área mínima tal que el volumen que ésta contiene sea $v$.\\\n",
        "Se resuelve el problema por el método de multiplicadores de Lagrange. Se define el lagrangiano a partir de el funcional que define el problema de minimización y la resitricción de volumen dado. \n",
        "La ecuación de Euler-Lagrange induce una ecuación diferencial ordinaria no lineal cuya solución analítica es posible de obtener para cierta configuración de sus parámetros. Se hace el uso de software para resolver el problema de manera más general y se muestran algunas superficies de las superficies solución, conocidas como **Superficies de Delaunay**"
      ],
      "metadata": {
        "id": "Aji9yEdG-f6X"
      }
    }
  ]
}