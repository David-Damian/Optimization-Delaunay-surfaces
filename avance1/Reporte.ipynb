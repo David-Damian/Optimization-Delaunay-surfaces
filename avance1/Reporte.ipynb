{
  "nbformat": 4,
  "nbformat_minor": 0,
  "metadata": {
    "colab": {
      "provenance": []
    },
    "kernelspec": {
      "name": "python3",
      "display_name": "Python 3"
    },
    "language_info": {
      "name": "python"
    }
  },
  "cells": [
    {
      "cell_type": "markdown",
      "source": [
        "# Superficies de Delaunay\n",
        "Una perspectiva desde el cálculo de variaciones"
      ],
      "metadata": {
        "id": "VF1ZTaH1-byV"
      }
    },
    {
      "cell_type": "markdown",
      "source": [
        "# Resumen"
      ],
      "metadata": {
        "id": "HiRtDqFE-crV"
      }
    },
    {
      "cell_type": "markdown",
      "source": [
        "En el presente trabajo se aborda un problema de optimización con restricción y se resuelve de manera numérica usando el lenguaje de programación $\\mathrm{Python}.$ \n",
        "\n",
        "Dado un volumen $v>0$, se halla la superficie de revolución de área mínima tal que el volumen que ésta contiene sea $v$.\\\n",
        "Se resuelve el problema por el método de multiplicadores de Lagrange. Se define el lagrangiano a partir de el funcional que define el problema de minimización y la resitricción de volumen dado. \n",
        "La ecuación de Euler-Lagrange induce una ecuación diferencial ordinaria no lineal cuya solución analítica es posible de obtener para cierta configuración de sus parámetros. Se hace el uso de software para resolver el problema de manera más general y se muestran algunas superficies de las superficies solución, conocidas como **Superficies de Delaunay**"
      ],
      "metadata": {
        "id": "Aji9yEdG-f6X"
      }
    },
    {
      "cell_type": "markdown",
      "source": [
        "Introducción al cálculo de variaciones"
      ],
      "metadata": {
        "id": "rhIOH0y_-9-L"
      }
    },
    {
      "cell_type": "markdown",
      "source": [
        "Los conceptos matemáticos presentados en esta sección no pretenden ser exahustivos. Únicamente se presentan las ideas fundamentales necesarias para comprender el problema que se aborda en la investigación. \\\n",
        "Un estudio exhaustivo se presenta en ... \\\n",
        "\n",
        "La optimización es una de las actividades más importantes en matemáticas y en general en la vida de los humanos, pues siempre es deseable elegir de un conjunto de alternativas posibles, aquella que proporcione la mejor satisfacción."
      ],
      "metadata": {
        "id": "oEkDii9n--fg"
      }
    },
    {
      "cell_type": "markdown",
      "source": [
        "## ¿Qué estudia el cálculo de variaciones?"
      ],
      "metadata": {
        "id": "NuvBh9R-_AO8"
      }
    },
    {
      "cell_type": "markdown",
      "source": [
        "En matemáticas, existen diversas áreas donde se modelan problemas de la vida real desde distintos enfoques. El cálculo de variaciones es una de dichas áreas. Uno de los principales objetivos consiste en determinar un camino,curva, superficie, etc. que proporcione un valor extremo (mínimo ó máximo) de una función dada. \n",
        "\n",
        "La principal propiedad de estos problemas es que están definidos en un conjunto\n",
        "de funciones $\\mathcal{D}$, mientras que la función objetivo correspondiente se describe por un funcional $J : \\mathcal{D} \\to \\mathbb{R}$ que se representa por un operador integral de la forma\n",
        "\n",
        "$J[x]=\\int_a^b L(t,x(t),\\dot{x}(t))dt$ \\\n",
        "\n",
        "en donde $L\\in\\mathcal{C}^2([a,b]\\times \\mathbb{R}\\times \\mathbb{R})$ y $x\\in\\mathcal{D}:=\\{x\\in\\mathcal{C}^1([a,b],\\mathbb{R}) \\mid x(a)=x_a; x(b)=x_b\\}$.\n",
        "\n",
        "Algunos ejemplos de problemas de aplicación que se pueden abordar desde un enfoque del cálculo de variaciones se presentan en las siguientes secciones."
      ],
      "metadata": {
        "id": "_t4-VkJY_CGv"
      }
    },
    {
      "cell_type": "markdown",
      "source": [
        "## Problemas clásicos de optimización"
      ],
      "metadata": {
        "id": "f9_u0ZYYBCAz"
      }
    },
    {
      "cell_type": "markdown",
      "source": [
        "La presente sección pretende ilustrar algunos problemas clásicos de optimización que pueden abordarse desde una perspectiva del cálculo de variaciones. Cabe mencionar que, no se profundiza demasiado en el planteamiento matemático ni la justificación de su solución. Un estudio exhaustivo de los problemas aquí presentados se encuentran en ..."
      ],
      "metadata": {
        "id": "4UAhxUk5BEd0"
      }
    },
    {
      "cell_type": "markdown",
      "source": [
        "### Problema de la braquistrocrona\n",
        "Uno de los problemas en la Mecánica que se considera dio origen al Cálculo de Variaciones, es el problema de la braquistócrona.\n",
        "Dicho problema busca determinar, de entre todas las curvas fısicamente posibles al unir dos puntos fijos, la curva que una partıcula, partiendo del reposo, recorre en el menor tiempo posible."
      ],
      "metadata": {
        "id": "ryFGDVlEBHLO"
      }
    },
    {
      "cell_type": "markdown",
      "source": [
        "### Problemas sobre geodésicas\n",
        "\n",
        "Una de las concepciones que se tiene sobre la forma de la tierra ha variado mucho a lo largo de la historia de la humanidad. \\\n",
        "¿cual es el camino más corto entre dos puntos de la superficie terrestre?"
      ],
      "metadata": {
        "id": "LrSGrITbBI93"
      }
    },
    {
      "cell_type": "markdown",
      "source": [
        "# Formulación y solución del problema de optimización"
      ],
      "metadata": {
        "id": "aT9CmLgdBfih"
      }
    },
    {
      "cell_type": "markdown",
      "source": [
        "Dados dos puntos $A=(a,x_a)$ y $B=(b,x_b)$ con $a< b$, considere todas las funciones $x\\in\\mathcal{C}^1([a,b]\\mathbb{R})$ cuya gráfica los conecta. La superficie de revolución se genera al girar la curva con respecto al eje horizontal.\n",
        "\n",
        "Nuestro objetivo es encontrar la curva que minimice el área de la superficie generada sujeta a la condición que debe tener un volumen $v\\in\\mathbb{R}^+$ dado.\n",
        "\n",
        "Para ésto debemos recordar que \n",
        "el área superficial de un sólido de revolución generado entrono al eje horizontal, viene dada por\n",
        "\n",
        "$\\int_a^b2\\pi x(t)\\sqrt{1+\\dot{x}^2(t)}dt$\n",
        "\n",
        "en donde $x:[a,b]\\to\\mathbb{R}$ es la función cuya gráfica se rota en torno al eje $x$.\n",
        "\n",
        "y el volumen encerrado por este sólido\n",
        "\n",
        "$\\int_a^b\\pi x^2(t)dt$\n",
        "\n",
        "en donde $x:[a,b]\\to\\mathbb{R}$ es la función cuya gráfica se rota en torno al eje $x$."
      ],
      "metadata": {
        "id": "jI-kZdguBjar"
      }
    },
    {
      "cell_type": "markdown",
      "source": [
        "La formulación matemática de acuerdo al cálculo de variaciones es como sigue:\n",
        "\n",
        "**Resolver**\n",
        "$ \\quad J[x]=\\int_a^b2\\pi x(t)\\sqrt{1+\\dot{x}^2(t)}dt \\to \\inf_{x\\in \\mathcal{D}_G}$ \\\\\n",
        "**sujeto a** \n",
        "$\\quad \\int_a^b\\pi x^2(t)dt =v$ \\\\\n",
        "\n",
        "Para expresar la restricción en su forma **homogénea** podemos plantear el problema como sigue\n",
        "\n",
        "**Resolver**\n",
        "$\\quad J[x]=\\int_a^b2\\pi x(t)\\sqrt{1+\\dot{x}^2(t)}dt \\to \\inf_{x\\in \\mathcal{D}_G}$ \\\\\n",
        "**sujeto a**\n",
        "$\\quad G[x]=0$ \\\\\n",
        "\n",
        "en donde $G[x]=\\displaystyle\\int_a^b\\left(\\pi x^2(t)-\\frac{v}{b-a}\\right)dt$\n",
        "\n",
        "El funcional $G$ se define de esa forma pues se quiere que la superficie de área mínima cumpla además con tener volumen $v$ y la manera de obtener el volumen de un sólido de revolución como el buscado es integrando la función $\\pi x^2$."
      ],
      "metadata": {
        "id": "6XQ9H3UWBmN3"
      }
    },
    {
      "cell_type": "markdown",
      "source": [
        "### Solución matemática del problema"
      ],
      "metadata": {
        "id": "5F-Iv0PLBnro"
      }
    },
    {
      "cell_type": "markdown",
      "source": [
        "Existen resultados matemáticos que sustentan el procedimiento siguiente. Dichos resultados se conocen como\n",
        "\n",
        "**Ecuaciones de Euler Lagrange**: Dan una condición necesaria(pero no sufiente) para encontrar un extremo de la función objetivo. Se puede hacer una analogía de éste resultado con la condición de primer orden para una función $f$, es decir $f'(x)=0$\n",
        "        \n",
        "Es decir, cualquier función $x$ que sea solución del problema de optimización planteado, satisface dicha ecuación."
      ],
      "metadata": {
        "id": "r-R1CyGMBwRc"
      }
    },
    {
      "cell_type": "markdown",
      "source": [
        "De acuerdo con el método de multiplicadores de lagrange sean $\\lambda_0,\\lambda_1\\in\\mathbb{R}$ y defínase el funcional auxiliar, llamado lagrangiano como sigue\n",
        "\n",
        "$\\mathcal{L}[x]=\\lambda_0J[x]+\\lambda_1G[x] =\\int_a^b\\left(2\\lambda_0\\pi x(t)\\sqrt{1+\\dot{x}^2(t)}+\\lambda_1\\pi x^2(t)-\\lambda_1\\frac{v}{b-a}\\right)dt$\n",
        "\n",
        "Se buscará minimizar éste funcional. Una vez conseguido eso, hemos resuelto el problema de optimización **con restricción**."
      ],
      "metadata": {
        "id": "Vixnr-tgBuYR"
      }
    },
    {
      "cell_type": "markdown",
      "source": [
        "Como la función de Lagrange no depende de $t$ entonces la correspondiente ecuación de Euler-Lagrange es de la forma\n",
        "\n",
        "$ L(x,\\dot{x})-\\dot{x}\\frac{\\partial L}{\\partial \\dot{x}}(x,\\dot{x})=k \\quad\\mbox{para alguna constante }k $\n",
        "\n",
        "es decir\n",
        "\n",
        "$ 2\\lambda_0 \\pi x\\sqrt{1+\\dot{x}^2}+\\lambda_1\\left(\\pi x^2(t)-\\frac{v}{b-a}\\right)-\\dot{x}\\left(\\frac{2\\lambda_0 \\pi x\\dot{x}}{\\sqrt{1+\\dot{x}^2}}\\right)=k $\n",
        "\n",
        "o bien\n",
        "\n",
        "$2\\lambda_0x+(\\lambda_1x^2-k_1)\\sqrt{1+\\dot{x}^2}=0\\quad k_1:=\\frac{k}{\\pi}+\\frac{\\lambda_1v}{\\pi(b-a)} $"
      ],
      "metadata": {
        "id": "FLunsFFDCWzN"
      }
    }
  ]
}