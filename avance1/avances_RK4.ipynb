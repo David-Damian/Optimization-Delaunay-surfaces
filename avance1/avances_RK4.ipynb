{
 "cells": [
  {
   "cell_type": "markdown",
   "id": "7acaa4ef-a660-4381-95d9-0242ecedb084",
   "metadata": {},
   "source": [
    "# Programando el método de Runge-Kutta"
   ]
  },
  {
   "cell_type": "markdown",
   "id": "14a44124-2ca8-429c-aed2-402b9761aaf6",
   "metadata": {},
   "source": [
    "Este método sirve para aproximar la solución del problema de valor inicial (i.e una ecuación diferencial con valor incial) del tipo\n",
    "\n",
    "> \n",
    "\\begin{equation}\n",
    "y'=f(t,y)\\quad t\\in[a,b]\\quad y(a)=\\alpha\n",
    "\\end{equation}"
   ]
  },
  {
   "cell_type": "markdown",
   "id": "39c7bfdb-0b77-48c1-a991-2de4169faeae",
   "metadata": {},
   "source": [
    "El algortimo es"
   ]
  },
  {
   "cell_type": "markdown",
   "id": "49b6c4f1-836c-404e-92dd-65c0c8c0ae10",
   "metadata": {},
   "source": [
    "* **INPUTS** $a,b$ los extremos del intervalo; $N$ cantidad de puntos en el intervalo; condición inicial $\\alpha$\n",
    "* **OUTPUT** Aproximación $w$ de la función $y$ en cada uno de los $N+1$ puntos del intervalo $[a,b]$."
   ]
  }
 ],
 "metadata": {
  "kernelspec": {
   "display_name": "Python 3 (ipykernel)",
   "language": "python",
   "name": "python3"
  },
  "language_info": {
   "codemirror_mode": {
    "name": "ipython",
    "version": 3
   },
   "file_extension": ".py",
   "mimetype": "text/x-python",
   "name": "python",
   "nbconvert_exporter": "python",
   "pygments_lexer": "ipython3",
   "version": "3.10.6"
  }
 },
 "nbformat": 4,
 "nbformat_minor": 5
}
