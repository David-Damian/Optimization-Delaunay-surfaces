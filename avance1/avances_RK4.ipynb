{
 "cells": [
  {
   "cell_type": "markdown",
   "id": "7acaa4ef-a660-4381-95d9-0242ecedb084",
   "metadata": {},
   "source": [
    "# Programando el método de Runge-Kutta"
   ]
  },
  {
   "cell_type": "markdown",
   "id": "14a44124-2ca8-429c-aed2-402b9761aaf6",
   "metadata": {},
   "source": [
    "Este método sirve para aproximar la solución del problema de valor inicial (i.e una ecuación diferencial con valor incial) del tipo\n",
    "\n",
    "> \n",
    "\\begin{equation}\n",
    "y'=f(t,y)\\quad t\\in[a,b]\\quad y(a)=\\alpha\n",
    "\\end{equation}"
   ]
  },
  {
   "cell_type": "markdown",
   "id": "39c7bfdb-0b77-48c1-a991-2de4169faeae",
   "metadata": {},
   "source": [
    "El algortimo es"
   ]
  },
  {
   "cell_type": "markdown",
   "id": "49b6c4f1-836c-404e-92dd-65c0c8c0ae10",
   "metadata": {},
   "source": [
    "* **INPUTS** $a,b$ los extremos del intervalo; $N$ cantidad de puntos en el intervalo; condición inicial $\\alpha$\n",
    "* **OUTPUT** Aproximación $w$ de la función $y$ en cada uno de los $N+1$ puntos del intervalo $[a,b]$."
   ]
  },
  {
   "cell_type": "markdown",
   "id": "8944cbfc-ddec-4f24-a167-ec242cc1516e",
   "metadata": {},
   "source": [
    "> **PASO 2**: Para $i=1,\\dots, N$ hacer Pasos 3-5\n",
    ">> **PASO 3**: \n",
    "\\begin{split}\n",
    "\\text{Definir}\\quad &K_1=hf(t,w)\\\\\n",
    "&K_2= hf\\left(t+h/2, w+K_1/2\\right)\\\\\n",
    "&K_3= hf\\left(t+h/2, w+K_2/2\\right)\\\\\n",
    "&K_4= hf\\left(t+h/2, w+K_3\\right)\n",
    "\\end{split}\n",
    ">> **PASO 4**\n",
    "\\begin{split}\n",
    "\\text{Definir}\\quad &w=w+\\frac{K_1+2K_2+2K_3+K_4}{6} \\quad\\text{(se calcular $w_i$})\\\\\n",
    "&t=a+ih\\quad\\text{(se calcula $t_i$})\n",
    "\\end{split}"
   ]
  },
  {
   "cell_type": "markdown",
   "id": "65bdc7e4-1ba2-4b84-be9e-6ebba017ca44",
   "metadata": {},
   "source": [
    "> **PASO 5** Parar"
   ]
  },
  {
   "cell_type": "markdown",
   "id": "483ba71d-b6d5-4cbe-bf12-50102e42a0db",
   "metadata": {},
   "source": [
    "**NOTA:** Este algoritmo se ha obtenido de [Numerical Analysis 9nth ed. pp 288-289](https://faculty.ksu.edu.sa/sites/default/files/numerical_analysis_9th.pdf)"
   ]
  }
 ],
 "metadata": {
  "kernelspec": {
   "display_name": "Python 3 (ipykernel)",
   "language": "python",
   "name": "python3"
  },
  "language_info": {
   "codemirror_mode": {
    "name": "ipython",
    "version": 3
   },
   "file_extension": ".py",
   "mimetype": "text/x-python",
   "name": "python",
   "nbconvert_exporter": "python",
   "pygments_lexer": "ipython3",
   "version": "3.10.6"
  }
 },
 "nbformat": 4,
 "nbformat_minor": 5
}
